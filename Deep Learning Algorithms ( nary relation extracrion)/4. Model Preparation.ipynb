{
 "cells": [
  {
   "cell_type": "code",
   "execution_count": 1,
   "metadata": {},
   "outputs": [
    {
     "name": "stderr",
     "output_type": "stream",
     "text": [
      "Using TensorFlow backend.\n",
      "c:\\users\\gulja\\python 3.7.3\\lib\\site-packages\\tensorflow\\python\\framework\\dtypes.py:526: FutureWarning: Passing (type, 1) or '1type' as a synonym of type is deprecated; in a future version of numpy, it will be understood as (type, (1,)) / '(1,)type'.\n",
      "  _np_qint8 = np.dtype([(\"qint8\", np.int8, 1)])\n",
      "c:\\users\\gulja\\python 3.7.3\\lib\\site-packages\\tensorflow\\python\\framework\\dtypes.py:527: FutureWarning: Passing (type, 1) or '1type' as a synonym of type is deprecated; in a future version of numpy, it will be understood as (type, (1,)) / '(1,)type'.\n",
      "  _np_quint8 = np.dtype([(\"quint8\", np.uint8, 1)])\n",
      "c:\\users\\gulja\\python 3.7.3\\lib\\site-packages\\tensorflow\\python\\framework\\dtypes.py:528: FutureWarning: Passing (type, 1) or '1type' as a synonym of type is deprecated; in a future version of numpy, it will be understood as (type, (1,)) / '(1,)type'.\n",
      "  _np_qint16 = np.dtype([(\"qint16\", np.int16, 1)])\n",
      "c:\\users\\gulja\\python 3.7.3\\lib\\site-packages\\tensorflow\\python\\framework\\dtypes.py:529: FutureWarning: Passing (type, 1) or '1type' as a synonym of type is deprecated; in a future version of numpy, it will be understood as (type, (1,)) / '(1,)type'.\n",
      "  _np_quint16 = np.dtype([(\"quint16\", np.uint16, 1)])\n",
      "c:\\users\\gulja\\python 3.7.3\\lib\\site-packages\\tensorflow\\python\\framework\\dtypes.py:530: FutureWarning: Passing (type, 1) or '1type' as a synonym of type is deprecated; in a future version of numpy, it will be understood as (type, (1,)) / '(1,)type'.\n",
      "  _np_qint32 = np.dtype([(\"qint32\", np.int32, 1)])\n",
      "c:\\users\\gulja\\python 3.7.3\\lib\\site-packages\\tensorflow\\python\\framework\\dtypes.py:535: FutureWarning: Passing (type, 1) or '1type' as a synonym of type is deprecated; in a future version of numpy, it will be understood as (type, (1,)) / '(1,)type'.\n",
      "  np_resource = np.dtype([(\"resource\", np.ubyte, 1)])\n"
     ]
    }
   ],
   "source": [
    "from nltk.corpus import wordnet as wn\n",
    "import numpy\n",
    "from keras.models import Sequential\n",
    "from keras.layers import Dense\n",
    "from keras.layers import Dropout\n",
    "from keras.layers import LSTM\n",
    "from keras.callbacks import ModelCheckpoint\n",
    "from keras.utils import np_utils\n",
    "from keras.preprocessing.text import Tokenizer\n",
    "from keras.preprocessing.sequence import pad_sequences\n",
    "from keras.layers import Dense, Dropout, Activation\n",
    "from keras.optimizers import SGD\n",
    "import keras\n",
    "import keras.utils\n",
    "from keras import utils as np_utils\n",
    "from keras.utils import to_categorical\n",
    "from sklearn.model_selection import train_test_split\n",
    "from keras.layers import Embedding\n",
    "from keras.layers import Dense, Dropout, Embedding, LSTM, Bidirectional\n",
    "from sklearn.preprocessing import LabelEncoder\n",
    "import numpy as np\n",
    "import pandas as pd\n",
    "pd.set_option('display.max_colwidth', -1)\n",
    "from keras.models import Model, Input\n",
    "from keras.layers import LSTM, Embedding, Dense, TimeDistributed, Dropout, Bidirectional"
   ]
  },
  {
   "cell_type": "code",
   "execution_count": 13,
   "metadata": {},
   "outputs": [],
   "source": [
    "df=pd.read_csv('labels.csv')"
   ]
  },
  {
   "cell_type": "markdown",
   "metadata": {},
   "source": [
    "# 1. Small checker "
   ]
  },
  {
   "cell_type": "code",
   "execution_count": 39,
   "metadata": {},
   "outputs": [
    {
     "name": "stdout",
     "output_type": "stream",
     "text": [
      "\n",
      "\n",
      "16363\n",
      "662\n",
      "Northrop\n",
      "Grumman\n",
      "B21\n",
      "longrange\n"
     ]
    }
   ],
   "source": [
    "for i in range(0,25662):\n",
    "    if df.loc[i,'Words']=='Northrop':\n",
    "        print(\"\\n\")\n",
    "        print(i)\n",
    "        print(df.loc[i,'event_id'])\n",
    "        \n",
    "        print(df.loc[i,'Words'])\n",
    "        print(df.loc[i+1,'Words'])\n",
    "        print(df.loc[i+2,'Words'])\n",
    "        print(df.loc[i+3,'Words'])\n",
    "    "
   ]
  },
  {
   "cell_type": "code",
   "execution_count": 15,
   "metadata": {},
   "outputs": [],
   "source": [
    "class SentenceGetter(object):\n",
    "    \n",
    "    def __init__(self, data):\n",
    "        self.n_sent = 1\n",
    "        self.data = data\n",
    "        self.empty = False\n",
    "        agg_func = lambda s: [(w, p, t) for w, p, t in zip(s[\"Words\"].values.tolist(),\n",
    "                                                           s[\"POS\"].values.tolist(),\n",
    "                                                           s[\"Tag\"].values.tolist())]\n",
    "        self.grouped = self.data.groupby(\"event_id\").apply(agg_func)\n",
    "        self.sentences = [s for s in self.grouped]\n",
    "    \n",
    "    def get_next(self):\n",
    "        try:\n",
    "            s = self.grouped[self.n_sent]\n",
    "            self.n_sent += 1\n",
    "            return s\n",
    "        except:\n",
    "            return None"
   ]
  },
  {
   "cell_type": "code",
   "execution_count": 16,
   "metadata": {},
   "outputs": [],
   "source": [
    "getter = SentenceGetter(df)\n"
   ]
  },
  {
   "cell_type": "code",
   "execution_count": 17,
   "metadata": {},
   "outputs": [
    {
     "name": "stdout",
     "output_type": "stream",
     "text": [
      "7052\n",
      "2\n",
      "[('A', 'DT', 'O'), ('new', 'JJ', 'O'), ('28foot', 'NN', 'O'), ('tall', 'JJ', 'O'), ('statue', 'NN', 'O'), ('of', 'IN', 'O'), ('Jesus', 'NNP', 'arg'), ('dubbed', 'VBN', 'O'), ('de', 'FW', 'arg'), ('Greatest', 'JJS', 'arg'), ('is', 'VBZ', 'O'), ('unveiled', 'VBD', 'O'), (' on ', 'IN', 'O'), ('New', 'NNP', 'arg'), ('Years', 'NNS', 'arg'), ('Day', 'NNP', 'O'), ('outside', 'IN', 'O'), ('St.', 'NNP', 'O'), ('Aloysius', 'NNP', 'O'), ('Catholic', 'NNP', 'O'), ('Church', 'NNP', 'O'), (' in ', 'IN', 'O'), ('Abajah', 'NNP', 'O'), ('village', 'NN', 'O'), ('Nigerias', 'NNP', 'O'), ('Imo', 'NNP', 'O'), ('state', 'NN', 'O'), ('which', 'WDT', 'O'), ('described', 'VBN', 'O'), (' as ', 'IN', 'O'), ('tallest', 'JJS', 'O'), ('Africa', 'NNP', 'O')]\n"
     ]
    }
   ],
   "source": [
    "words = set(df[\"Words\"].values.tolist())\n",
    "# words.append(\"ENDPAD\")\n",
    "n_words = len(words); \n",
    "print(n_words)\n",
    "tags = set(df[\"Tag\"].values.tolist())\n",
    "n_tags = len(tags); \n",
    "print(n_tags)\n",
    "sent = getter.get_next()\n",
    "print(sent)\n",
    "\n"
   ]
  },
  {
   "cell_type": "code",
   "execution_count": 18,
   "metadata": {},
   "outputs": [],
   "source": [
    "sentences = getter.sentences"
   ]
  },
  {
   "cell_type": "code",
   "execution_count": 19,
   "metadata": {},
   "outputs": [
    {
     "data": {
      "image/png": "[encoded data removed]",
      "text/plain": [
       "<Figure size 432x288 with 1 Axes>"
      ]
     },
     "metadata": {},
     "output_type": "display_data"
    }
   ],
   "source": [
    "import matplotlib.pyplot as plt\n",
    "plt.style.use(\"ggplot\")\n",
    "plt.hist([len(s) for s in sentences], bins=50)\n",
    "plt.show()"
   ]
  },
  {
   "cell_type": "code",
   "execution_count": 38,
   "metadata": {},
   "outputs": [],
   "source": [
    "max_len = 120\n",
    "word2idx = {w: i for i, w in enumerate(words)} #vocab for words\n",
    "# print(tag2idx)\n",
    "tag2idx = {t: i for i, t in enumerate(tags)} #vocab for tags\n",
    "from keras.preprocessing.sequence import pad_sequences\n",
    "X = [[word2idx[w[0]] for w in s] for s in sentences]\n",
    "X = pad_sequences(maxlen=max_len, sequences=X, padding=\"post\", value=n_words - 1)\n",
    "y = [[tag2idx[w[2]] for w in s] for s in sentences]\n",
    "y = pad_sequences(maxlen=max_len, sequences=y, padding=\"post\", value=tag2idx[\"O\"])\n",
    "from keras.utils import to_categorical\n",
    "y = [to_categorical(i, num_classes=n_tags) for i in y]\n",
    "from sklearn.model_selection import train_test_split\n",
    "X_tr, X_te, y_tr, y_te = train_test_split(X, y, test_size=0.1)"
   ]
  },
  {
   "cell_type": "code",
   "execution_count": 22,
   "metadata": {},
   "outputs": [],
   "source": [
    "input = Input(shape=(max_len,))\n",
    "model = Embedding(input_dim=n_words, output_dim=120, input_length=max_len)(input)\n",
    "model = Dropout(0.1)(model)\n",
    "model = Bidirectional(LSTM(units=100, return_sequences=True, recurrent_dropout=0.1))(model)\n",
    "out = TimeDistributed(Dense(n_tags, activation=\"sigmoid\"))(model)  # softmax output layer\n",
    "model = Model(input, out)\n",
    "model.compile(optimizer=\"adam\", loss=\"binary_crossentropy\", metrics=[\"accuracy\"])"
   ]
  },
  {
   "cell_type": "code",
   "execution_count": 23,
   "metadata": {},
   "outputs": [
    {
     "name": "stdout",
     "output_type": "stream",
     "text": [
      "WARNING:tensorflow:From c:\\users\\gulja\\python 3.7.3\\lib\\site-packages\\tensorflow\\python\\ops\\math_ops.py:3066: to_int32 (from tensorflow.python.ops.math_ops) is deprecated and will be removed in a future version.\n",
      "Instructions for updating:\n",
      "Use tf.cast instead.\n",
      "Train on 822 samples, validate on 92 samples\n",
      "Epoch 1/50\n",
      "822/822 [==============================] - 8s 9ms/step - loss: 0.3028 - acc: 0.9359 - val_loss: 0.1224 - val_acc: 0.9573\n",
      "Epoch 2/50\n",
      "822/822 [==============================] - 6s 7ms/step - loss: 0.1007 - acc: 0.9605 - val_loss: 0.0950 - val_acc: 0.9573\n",
      "Epoch 3/50\n",
      "822/822 [==============================] - 6s 7ms/step - loss: 0.0894 - acc: 0.9605 - val_loss: 0.0942 - val_acc: 0.9573\n",
      "Epoch 4/50\n",
      "822/822 [==============================] - 6s 7ms/step - loss: 0.0849 - acc: 0.9605 - val_loss: 0.0959 - val_acc: 0.9573\n",
      "Epoch 5/50\n",
      "822/822 [==============================] - 6s 8ms/step - loss: 0.0813 - acc: 0.9604 - val_loss: 0.0950 - val_acc: 0.9574\n",
      "Epoch 6/50\n",
      "822/822 [==============================] - 6s 7ms/step - loss: 0.0771 - acc: 0.9617 - val_loss: 0.0988 - val_acc: 0.9573\n",
      "Epoch 7/50\n",
      "822/822 [==============================] - 7s 8ms/step - loss: 0.0716 - acc: 0.9656 - val_loss: 0.0957 - val_acc: 0.9574\n",
      "Epoch 8/50\n",
      "822/822 [==============================] - 6s 7ms/step - loss: 0.0631 - acc: 0.9710 - val_loss: 0.1023 - val_acc: 0.9564\n",
      "Epoch 9/50\n",
      "822/822 [==============================] - 6s 7ms/step - loss: 0.0527 - acc: 0.9775 - val_loss: 0.1130 - val_acc: 0.9549\n",
      "Epoch 10/50\n",
      "822/822 [==============================] - 6s 7ms/step - loss: 0.0449 - acc: 0.9822 - val_loss: 0.1185 - val_acc: 0.9559\n",
      "Epoch 11/50\n",
      "822/822 [==============================] - 6s 8ms/step - loss: 0.0385 - acc: 0.9847 - val_loss: 0.1144 - val_acc: 0.9582\n",
      "Epoch 12/50\n",
      "822/822 [==============================] - 6s 7ms/step - loss: 0.0318 - acc: 0.9885 - val_loss: 0.1185 - val_acc: 0.9560\n",
      "Epoch 13/50\n",
      "822/822 [==============================] - 6s 8ms/step - loss: 0.0260 - acc: 0.9910 - val_loss: 0.1289 - val_acc: 0.9553\n",
      "Epoch 14/50\n",
      "822/822 [==============================] - 6s 8ms/step - loss: 0.0221 - acc: 0.9926 - val_loss: 0.1449 - val_acc: 0.9530\n",
      "Epoch 15/50\n",
      "822/822 [==============================] - 5s 6ms/step - loss: 0.0186 - acc: 0.9941 - val_loss: 0.1322 - val_acc: 0.9555\n",
      "Epoch 16/50\n",
      "822/822 [==============================] - 6s 7ms/step - loss: 0.0157 - acc: 0.9951 - val_loss: 0.1524 - val_acc: 0.9567\n",
      "Epoch 17/50\n",
      "822/822 [==============================] - 7s 8ms/step - loss: 0.0131 - acc: 0.9961 - val_loss: 0.1620 - val_acc: 0.9564\n",
      "Epoch 18/50\n",
      "822/822 [==============================] - 6s 7ms/step - loss: 0.0117 - acc: 0.9966 - val_loss: 0.1515 - val_acc: 0.9552\n",
      "Epoch 19/50\n",
      "822/822 [==============================] - 5s 6ms/step - loss: 0.0113 - acc: 0.9967 - val_loss: 0.1740 - val_acc: 0.9573\n",
      "Epoch 20/50\n",
      "822/822 [==============================] - 5s 7ms/step - loss: 0.0101 - acc: 0.9968 - val_loss: 0.1663 - val_acc: 0.9560\n",
      "Epoch 21/50\n",
      "822/822 [==============================] - 5s 7ms/step - loss: 0.0084 - acc: 0.9975 - val_loss: 0.1742 - val_acc: 0.9581\n",
      "Epoch 22/50\n",
      "822/822 [==============================] - 5s 6ms/step - loss: 0.0069 - acc: 0.9981 - val_loss: 0.1790 - val_acc: 0.9578\n",
      "Epoch 23/50\n",
      "822/822 [==============================] - 5s 6ms/step - loss: 0.0062 - acc: 0.9984 - val_loss: 0.1809 - val_acc: 0.9572\n",
      "Epoch 24/50\n",
      "822/822 [==============================] - 5s 6ms/step - loss: 0.0056 - acc: 0.9985 - val_loss: 0.1918 - val_acc: 0.9587\n",
      "Epoch 25/50\n",
      "822/822 [==============================] - 5s 6ms/step - loss: 0.0050 - acc: 0.9987 - val_loss: 0.1984 - val_acc: 0.9591\n",
      "Epoch 26/50\n",
      "822/822 [==============================] - 5s 6ms/step - loss: 0.0045 - acc: 0.9988 - val_loss: 0.1986 - val_acc: 0.9564\n",
      "Epoch 27/50\n",
      "822/822 [==============================] - 5s 6ms/step - loss: 0.0040 - acc: 0.9991 - val_loss: 0.2049 - val_acc: 0.9586\n",
      "Epoch 28/50\n",
      "822/822 [==============================] - 6s 7ms/step - loss: 0.0039 - acc: 0.9990 - val_loss: 0.2050 - val_acc: 0.9563\n",
      "Epoch 29/50\n",
      "822/822 [==============================] - 7s 8ms/step - loss: 0.0034 - acc: 0.9991 - val_loss: 0.2104 - val_acc: 0.9582\n",
      "Epoch 30/50\n",
      "822/822 [==============================] - 6s 8ms/step - loss: 0.0031 - acc: 0.9992 - val_loss: 0.2177 - val_acc: 0.9571\n",
      "Epoch 31/50\n",
      "822/822 [==============================] - 7s 8ms/step - loss: 0.0029 - acc: 0.9994 - val_loss: 0.2166 - val_acc: 0.9562\n",
      "Epoch 32/50\n",
      "822/822 [==============================] - 6s 8ms/step - loss: 0.0028 - acc: 0.9994 - val_loss: 0.2172 - val_acc: 0.9534\n",
      "Epoch 33/50\n",
      "822/822 [==============================] - 6s 7ms/step - loss: 0.0027 - acc: 0.9994 - val_loss: 0.2225 - val_acc: 0.9558\n",
      "Epoch 34/50\n",
      "822/822 [==============================] - 6s 7ms/step - loss: 0.0022 - acc: 0.9995 - val_loss: 0.2307 - val_acc: 0.9562\n",
      "Epoch 35/50\n",
      "822/822 [==============================] - 5s 6ms/step - loss: 0.0023 - acc: 0.9995 - val_loss: 0.2317 - val_acc: 0.9562\n",
      "Epoch 36/50\n",
      "822/822 [==============================] - 5s 6ms/step - loss: 0.0045 - acc: 0.9986 - val_loss: 0.2402 - val_acc: 0.9596\n",
      "Epoch 37/50\n",
      "822/822 [==============================] - 5s 6ms/step - loss: 0.0036 - acc: 0.9989 - val_loss: 0.2195 - val_acc: 0.9532\n",
      "Epoch 38/50\n",
      "822/822 [==============================] - 5s 6ms/step - loss: 0.0026 - acc: 0.9993 - val_loss: 0.2258 - val_acc: 0.9568\n",
      "Epoch 39/50\n",
      "822/822 [==============================] - 5s 6ms/step - loss: 0.0020 - acc: 0.9995 - val_loss: 0.2341 - val_acc: 0.9545\n",
      "Epoch 40/50\n",
      "822/822 [==============================] - 5s 6ms/step - loss: 0.0017 - acc: 0.9997 - val_loss: 0.2351 - val_acc: 0.9561\n",
      "Epoch 41/50\n",
      "822/822 [==============================] - 6s 7ms/step - loss: 0.0015 - acc: 0.9997 - val_loss: 0.2383 - val_acc: 0.9543\n",
      "Epoch 42/50\n",
      "822/822 [==============================] - 5s 6ms/step - loss: 0.0014 - acc: 0.9997 - val_loss: 0.2456 - val_acc: 0.9567\n",
      "Epoch 43/50\n",
      "822/822 [==============================] - 5s 6ms/step - loss: 0.0014 - acc: 0.9997 - val_loss: 0.2490 - val_acc: 0.9558\n",
      "Epoch 44/50\n",
      "822/822 [==============================] - 5s 6ms/step - loss: 0.0013 - acc: 0.9997 - val_loss: 0.2431 - val_acc: 0.9552\n",
      "Epoch 45/50\n",
      "822/822 [==============================] - 5s 6ms/step - loss: 0.0012 - acc: 0.9998 - val_loss: 0.2500 - val_acc: 0.9567\n",
      "Epoch 46/50\n",
      "822/822 [==============================] - 5s 6ms/step - loss: 0.0011 - acc: 0.9998 - val_loss: 0.2537 - val_acc: 0.9569\n",
      "Epoch 47/50\n",
      "822/822 [==============================] - 5s 6ms/step - loss: 9.5889e-04 - acc: 0.9998 - val_loss: 0.2554 - val_acc: 0.9561\n",
      "Epoch 48/50\n",
      "822/822 [==============================] - 5s 6ms/step - loss: 8.8352e-04 - acc: 0.9998 - val_loss: 0.2570 - val_acc: 0.9563\n",
      "Epoch 49/50\n",
      "822/822 [==============================] - 5s 6ms/step - loss: 9.6406e-04 - acc: 0.9998 - val_loss: 0.2555 - val_acc: 0.9554\n",
      "Epoch 50/50\n",
      "822/822 [==============================] - 5s 6ms/step - loss: 8.6174e-04 - acc: 0.9999 - val_loss: 0.2592 - val_acc: 0.9558\n"
     ]
    }
   ],
   "source": [
    "history = model.fit(X_tr, np.array(y_tr), batch_size=32, epochs=50, validation_split=0.2, verbose=1)\n"
   ]
  },
  {
   "cell_type": "code",
   "execution_count": 24,
   "metadata": {},
   "outputs": [],
   "source": [
    "hist = pd.DataFrame(history.history)\n",
    "# print(hist)"
   ]
  },
  {
   "cell_type": "code",
   "execution_count": 25,
   "metadata": {},
   "outputs": [
    {
     "data": {
      "image/png": "[encoded data removed]",
      "text/plain": [
       "<Figure size 864x864 with 1 Axes>"
      ]
     },
     "metadata": {},
     "output_type": "display_data"
    }
   ],
   "source": [
    "plt.figure(figsize=(12,12))\n",
    "plt.plot(hist[\"acc\"])\n",
    "plt.plot(hist[\"val_acc\"])\n",
    "plt.show()"
   ]
  },
  {
   "cell_type": "code",
   "execution_count": 52,
   "metadata": {},
   "outputs": [
    {
     "data": {
      "text/plain": [
       "0"
      ]
     },
     "execution_count": 52,
     "metadata": {},
     "output_type": "execute_result"
    }
   ],
   "source": [
    "pred"
   ]
  },
  {
   "cell_type": "code",
   "execution_count": 55,
   "metadata": {},
   "outputs": [
    {
     "name": "stdout",
     "output_type": "stream",
     "text": [
      "[1 0 1 1 0 1 1 0 0 0 0 0 0 0 0 0 0 0 0 0 0 0 0 0 0 0 0 0 0 0 0 0 0 0 0 0 0\n",
      " 0 0 0 0 0 0 0 0 0 0 0 0 0 0 0 0 0 0 0 0 0 0 0 0 0 0 0 0 0 0 0 0 0 0 0 0 0\n",
      " 0 0 0 0 0 0 0 0 0 0 0 0 0 0 0 0 0 0 0 0 0 0 0 0 0 0 0 0 0 0 0 0 0 0 0 0 0\n",
      " 0 0 0 0 0 0 0 0 0]\n"
     ]
    }
   ],
   "source": [
    "for i in range(10,11):\n",
    "    p = model.predict(np.array([X_te[i]]))\n",
    "    p = np.argmax(p, axis=-1)\n",
    "    print(p[0])\n",
    "    \n",
    "    \n",
    "#     p=np.where(p==2, 0, x)\n",
    "    \n",
    "    \n",
    "#     print(\"{:15} ({:5}): {}\".format(\"Word\", \"True\", \"Pred\"))\n",
    "#     for w, pred in zip(X_te[i], p[0]):\n",
    "#         print(\"{:15}: {}\".format(list(words)[w], list(tags)[pred]))\n",
    "#     x=np.where(p==1, 2, p) \n",
    "    \n",
    "#     m=np.where(x==0, 1, x)\n",
    "# #     print(y)\n",
    "#     z=np.where(m==2, 0, m)\n",
    "#     print(z)\n"
   ]
  },
  {
   "cell_type": "code",
   "execution_count": 47,
   "metadata": {},
   "outputs": [],
   "source": [
    "from seqeval.metrics import precision_score, recall_score, f1_score, classification_report\n"
   ]
  },
  {
   "cell_type": "code",
   "execution_count": 48,
   "metadata": {},
   "outputs": [
    {
     "name": "stdout",
     "output_type": "stream",
     "text": [
      "102/102 [==============================] - 0s 2ms/step\n"
     ]
    }
   ],
   "source": [
    "test_pred = model.predict(X_te, verbose=1)\n"
   ]
  },
  {
   "cell_type": "code",
   "execution_count": 49,
   "metadata": {},
   "outputs": [],
   "source": [
    "idx2tag = {i: w for w, i in tag2idx.items()}\n",
    "\n",
    "def pred2label(pred):\n",
    "    out = []\n",
    "    for pred_i in pred:\n",
    "        out_i = []\n",
    "        for p in pred_i:\n",
    "            p_i = np.argmax(p)\n",
    "            out_i.append(idx2tag[p_i].replace(\"PAD\", \"O\"))\n",
    "        out.append(out_i)\n",
    "    return out\n",
    "    \n",
    "pred_labels = pred2label(test_pred)\n",
    "test_labels = pred2label(y_te)"
   ]
  },
  {
   "cell_type": "code",
   "execution_count": 57,
   "metadata": {},
   "outputs": [
    {
     "data": {
      "text/plain": [
       "array([[6.9203973e-04, 9.9934030e-01],\n",
       "       [1.3139844e-04, 9.9985218e-01],\n",
       "       [5.8784485e-03, 9.9391711e-01],\n",
       "       [9.9737775e-01, 2.1252036e-03],\n",
       "       [9.9993134e-01, 5.5104494e-05],\n",
       "       [3.6665797e-04, 9.9956787e-01],\n",
       "       [1.7762184e-05, 9.9997997e-01],\n",
       "       [3.7884116e-03, 9.9614471e-01],\n",
       "       [9.9990690e-01, 7.4028969e-05],\n",
       "       [9.9998325e-01, 1.5854836e-05],\n",
       "       [9.9999964e-01, 4.1723251e-07],\n",
       "       [9.9999988e-01, 5.9604645e-08],\n",
       "       [9.9999988e-01, 1.7881393e-07],\n",
       "       [9.9978721e-01, 2.4157763e-04],\n",
       "       [9.9940628e-01, 5.9115887e-04],\n",
       "       [1.0000000e+00, 2.9802322e-08],\n",
       "       [9.9999928e-01, 6.8545341e-07],\n",
       "       [9.9918860e-01, 7.9700351e-04],\n",
       "       [9.9988365e-01, 1.1765957e-04],\n",
       "       [9.9968827e-01, 3.1268597e-04],\n",
       "       [9.9999988e-01, 5.9604645e-08],\n",
       "       [9.9999988e-01, 1.7881393e-07],\n",
       "       [9.9999994e-01, 2.3841858e-07],\n",
       "       [9.9999982e-01, 1.7881393e-07],\n",
       "       [9.9999976e-01, 1.7881393e-07],\n",
       "       [9.9999982e-01, 1.1920929e-07],\n",
       "       [9.9999988e-01, 1.1920929e-07],\n",
       "       [9.9999982e-01, 1.7881393e-07],\n",
       "       [9.9999988e-01, 2.3841858e-07],\n",
       "       [9.9999982e-01, 1.1920929e-07],\n",
       "       [9.9999982e-01, 1.1920929e-07],\n",
       "       [9.9999988e-01, 2.3841858e-07],\n",
       "       [9.9999982e-01, 1.1920929e-07],\n",
       "       [9.9999982e-01, 1.1920929e-07],\n",
       "       [9.9999988e-01, 5.9604645e-08],\n",
       "       [9.9999988e-01, 1.7881393e-07],\n",
       "       [9.9999982e-01, 1.7881393e-07],\n",
       "       [9.9999988e-01, 1.1920929e-07],\n",
       "       [9.9999988e-01, 1.7881393e-07],\n",
       "       [9.9999988e-01, 1.7881393e-07],\n",
       "       [9.9999988e-01, 1.1920929e-07],\n",
       "       [9.9999982e-01, 1.7881393e-07],\n",
       "       [9.9999988e-01, 5.9604645e-08],\n",
       "       [9.9999988e-01, 1.1920929e-07],\n",
       "       [9.9999994e-01, 1.7881393e-07],\n",
       "       [9.9999982e-01, 1.1920929e-07],\n",
       "       [9.9999988e-01, 5.9604645e-08],\n",
       "       [9.9999982e-01, 1.1920929e-07],\n",
       "       [9.9999994e-01, 1.1920929e-07],\n",
       "       [9.9999988e-01, 1.1920929e-07],\n",
       "       [9.9999988e-01, 1.1920929e-07],\n",
       "       [9.9999994e-01, 5.9604645e-08],\n",
       "       [9.9999988e-01, 5.9604645e-08],\n",
       "       [1.0000000e+00, 2.3841858e-07],\n",
       "       [9.9999982e-01, 1.1920929e-07],\n",
       "       [9.9999988e-01, 1.1920929e-07],\n",
       "       [9.9999982e-01, 1.7881393e-07],\n",
       "       [9.9999982e-01, 2.3841858e-07],\n",
       "       [9.9999988e-01, 5.9604645e-08],\n",
       "       [9.9999982e-01, 2.3841858e-07],\n",
       "       [9.9999982e-01, 1.1920929e-07],\n",
       "       [9.9999994e-01, 1.1920929e-07],\n",
       "       [9.9999982e-01, 1.1920929e-07],\n",
       "       [9.9999988e-01, 1.7881393e-07],\n",
       "       [9.9999994e-01, 1.7881393e-07],\n",
       "       [9.9999982e-01, 1.1920929e-07],\n",
       "       [9.9999988e-01, 1.7881393e-07],\n",
       "       [9.9999994e-01, 1.7881393e-07],\n",
       "       [9.9999988e-01, 5.9604645e-08],\n",
       "       [9.9999994e-01, 1.1920929e-07],\n",
       "       [9.9999994e-01, 1.7881393e-07],\n",
       "       [9.9999988e-01, 1.7881393e-07],\n",
       "       [9.9999982e-01, 1.1920929e-07],\n",
       "       [9.9999976e-01, 1.1920929e-07],\n",
       "       [9.9999988e-01, 1.7881393e-07],\n",
       "       [9.9999988e-01, 2.3841858e-07],\n",
       "       [9.9999994e-01, 1.7881393e-07],\n",
       "       [9.9999988e-01, 1.1920929e-07],\n",
       "       [9.9999976e-01, 1.7881393e-07],\n",
       "       [9.9999982e-01, 1.1920929e-07],\n",
       "       [9.9999982e-01, 1.7881393e-07],\n",
       "       [9.9999994e-01, 1.7881393e-07],\n",
       "       [9.9999988e-01, 1.7881393e-07],\n",
       "       [9.9999988e-01, 1.1920929e-07],\n",
       "       [9.9999988e-01, 5.9604645e-08],\n",
       "       [9.9999988e-01, 5.9604645e-08],\n",
       "       [9.9999988e-01, 5.9604645e-08],\n",
       "       [9.9999988e-01, 5.9604645e-08],\n",
       "       [9.9999988e-01, 5.9604645e-08],\n",
       "       [9.9999988e-01, 1.4901161e-07],\n",
       "       [9.9999988e-01, 1.1920929e-07],\n",
       "       [9.9999976e-01, 5.9604645e-08],\n",
       "       [9.9999988e-01, 0.0000000e+00],\n",
       "       [9.9999982e-01, 1.1920929e-07],\n",
       "       [9.9999988e-01, 1.1920929e-07],\n",
       "       [9.9999988e-01, 1.7881393e-07],\n",
       "       [9.9999976e-01, 8.9406967e-08],\n",
       "       [9.9999988e-01, 8.9406967e-08],\n",
       "       [9.9999988e-01, 1.1920929e-07],\n",
       "       [9.9999982e-01, 2.0861626e-07],\n",
       "       [9.9999976e-01, 2.3841858e-07],\n",
       "       [9.9999976e-01, 2.3841858e-07],\n",
       "       [9.9999976e-01, 2.9802322e-07],\n",
       "       [9.9999976e-01, 2.6822090e-07],\n",
       "       [9.9999976e-01, 3.2782555e-07],\n",
       "       [9.9999976e-01, 2.6822090e-07],\n",
       "       [9.9999976e-01, 2.0861626e-07],\n",
       "       [9.9999988e-01, 2.0861626e-07],\n",
       "       [9.9999982e-01, 2.0861626e-07],\n",
       "       [9.9999994e-01, 1.1920929e-07],\n",
       "       [9.9999988e-01, 8.9406967e-08],\n",
       "       [1.0000000e+00, 0.0000000e+00],\n",
       "       [1.0000000e+00, 0.0000000e+00],\n",
       "       [1.0000000e+00, 0.0000000e+00],\n",
       "       [1.0000000e+00, 0.0000000e+00],\n",
       "       [1.0000000e+00, 0.0000000e+00],\n",
       "       [1.0000000e+00, 0.0000000e+00],\n",
       "       [1.0000000e+00, 0.0000000e+00],\n",
       "       [1.0000000e+00, 0.0000000e+00],\n",
       "       [1.0000000e+00, 1.1920929e-07]], dtype=float32)"
      ]
     },
     "execution_count": 57,
     "metadata": {},
     "output_type": "execute_result"
    }
   ],
   "source": [
    "test_pred[0]"
   ]
  },
  {
   "cell_type": "code",
   "execution_count": 50,
   "metadata": {},
   "outputs": [
    {
     "name": "stdout",
     "output_type": "stream",
     "text": [
      "F1-score: 81.0%\n"
     ]
    }
   ],
   "source": [
    "print(\"F1-score: {:.1%}\".format(f1_score(test_labels, pred_labels)))\n"
   ]
  },
  {
   "cell_type": "code",
   "execution_count": 51,
   "metadata": {},
   "outputs": [
    {
     "name": "stdout",
     "output_type": "stream",
     "text": [
      "           precision    recall  f1-score   support\n",
      "\n",
      "      arg       0.82      0.80      0.81       204\n",
      "\n",
      "micro avg       0.82      0.80      0.81       204\n",
      "macro avg       0.82      0.80      0.81       204\n",
      "\n"
     ]
    }
   ],
   "source": [
    "print(classification_report(test_labels, pred_labels))\n"
   ]
  },
  {
   "cell_type": "code",
   "execution_count": null,
   "metadata": {},
   "outputs": [],
   "source": []
  }
 ],
 "metadata": {
  "kernelspec": {
   "display_name": "Python 3",
   "language": "python",
   "name": "python3"
  },
  "language_info": {
   "codemirror_mode": {
    "name": "ipython",
    "version": 3
   },
   "file_extension": ".py",
   "mimetype": "text/x-python",
   "name": "python",
   "nbconvert_exporter": "python",
   "pygments_lexer": "ipython3",
   "version": "3.7.3"
  }
 },
 "nbformat": 4,
 "nbformat_minor": 2
}
