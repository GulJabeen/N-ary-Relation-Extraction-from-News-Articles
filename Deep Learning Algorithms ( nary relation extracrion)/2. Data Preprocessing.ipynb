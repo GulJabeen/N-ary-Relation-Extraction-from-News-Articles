{
 "cells": [
  {
   "cell_type": "code",
   "execution_count": 1,
   "metadata": {},
   "outputs": [],
   "source": [
    "import pandas as pd\n",
    "pd.set_option('display.max_colwidth', -1)"
   ]
  },
  {
   "cell_type": "code",
   "execution_count": 2,
   "metadata": {},
   "outputs": [],
   "source": [
    "# df = pd.read_csv('events.csv')\n",
    "df1=pd.read_csv('event_ann.csv')\n",
    "df2=pd.read_csv('eventsummary.csv')\n",
    "df3=pd.read_csv('labels.csv')\n",
    "df2=df2[0:1000]\n",
    "df1=df1.reset_index()"
   ]
  },
  {
   "cell_type": "code",
   "execution_count": 3,
   "metadata": {},
   "outputs": [
    {
     "data": {
      "text/html": [
       "<div>\n",
       "<style scoped>\n",
       "    .dataframe tbody tr th:only-of-type {\n",
       "        vertical-align: middle;\n",
       "    }\n",
       "\n",
       "    .dataframe tbody tr th {\n",
       "        vertical-align: top;\n",
       "    }\n",
       "\n",
       "    .dataframe thead th {\n",
       "        text-align: right;\n",
       "    }\n",
       "</style>\n",
       "<table border=\"1\" class=\"dataframe\">\n",
       "  <thead>\n",
       "    <tr style=\"text-align: right;\">\n",
       "      <th></th>\n",
       "      <th>event_id</th>\n",
       "      <th>event_summary</th>\n",
       "    </tr>\n",
       "  </thead>\n",
       "  <tbody>\n",
       "    <tr>\n",
       "      <td>0</td>\n",
       "      <td>0</td>\n",
       "      <td>A shooting takes place at a pub in Tel Aviv Israel leaving two dead and eight injured. The gunman managed to escape and possibly killed his accomplice an Arab taxi driver whose body was found nearby. The police identified shooter as 30 year old muslim Nisaat Melkham from Arara and searched his home</td>\n",
       "    </tr>\n",
       "    <tr>\n",
       "      <td>1</td>\n",
       "      <td>1</td>\n",
       "      <td>A new 28foot tall statue of Jesus dubbed Jesus de Greatest is unveiled on New Years Day outside St. Aloysius Catholic Church in Abajah village Nigerias Imo state which is described as tallest Jesus statue in Africa</td>\n",
       "    </tr>\n",
       "    <tr>\n",
       "      <td>2</td>\n",
       "      <td>2</td>\n",
       "      <td>About one thousand houses in Manilas Tondo district in Philippines are set ablaze following New Years Eve firecracker festivities that left person dead and 380 others injured</td>\n",
       "    </tr>\n",
       "    <tr>\n",
       "      <td>3</td>\n",
       "      <td>3</td>\n",
       "      <td>The EUUkraine Free Trade deal officially comes into force coinciding with a Russian food embargo on Ukraine</td>\n",
       "    </tr>\n",
       "    <tr>\n",
       "      <td>4</td>\n",
       "      <td>4</td>\n",
       "      <td>The twochild policy takes effect in China allowing couples in country to have at most two children replacing controversial onechild policy. The change in law was announced by ruling Communist Party on October 29 and passed Standing Committee of National Peoples Congress on December 27 five days prior to its effect</td>\n",
       "    </tr>\n",
       "    <tr>\n",
       "      <td>...</td>\n",
       "      <td>...</td>\n",
       "      <td>...</td>\n",
       "    </tr>\n",
       "    <tr>\n",
       "      <td>995</td>\n",
       "      <td>995</td>\n",
       "      <td>Passengers are evacuated from south domestic terminal at Hartsfield Jackson Atlanta International Airport in US state of Georgia after a suspicious package is found. The package is declared safe by a bomb squad</td>\n",
       "    </tr>\n",
       "    <tr>\n",
       "      <td>996</td>\n",
       "      <td>996</td>\n",
       "      <td>Nigerien President Mahamadou Issoufou wins reelection in a second round of voting receiving 92 percent of vote in an election that was boycotted by opposition</td>\n",
       "    </tr>\n",
       "    <tr>\n",
       "      <td>997</td>\n",
       "      <td>997</td>\n",
       "      <td>Voters in Senegal approve a series of constitutional reforms which include a reduction of presidential terms from seven to five years with 63 percent of vote</td>\n",
       "    </tr>\n",
       "    <tr>\n",
       "      <td>998</td>\n",
       "      <td>998</td>\n",
       "      <td>Front runners Hillary Clinton and Donald Trump  won Democratic and Republican primary in Arizona. Bernie Sanders and Ted Cruz each won their partys votes in Idaho and Utah. The early results for Tuesdays GOP caucus in American Samoa nine uncommitted</td>\n",
       "    </tr>\n",
       "    <tr>\n",
       "      <td>999</td>\n",
       "      <td>999</td>\n",
       "      <td>Starboard Value LP an activist hedge fund begins a proxy contest to oust entire board of directors of internet pioneer Yahoo</td>\n",
       "    </tr>\n",
       "  </tbody>\n",
       "</table>\n",
       "<p>1000 rows × 2 columns</p>\n",
       "</div>"
      ],
      "text/plain": [
       "     event_id  \\\n",
       "0    0          \n",
       "1    1          \n",
       "2    2          \n",
       "3    3          \n",
       "4    4          \n",
       "..  ..          \n",
       "995  995        \n",
       "996  996        \n",
       "997  997        \n",
       "998  998        \n",
       "999  999        \n",
       "\n",
       "                                                                                                                                                                                                                                                                                                                   event_summary  \n",
       "0    A shooting takes place at a pub in Tel Aviv Israel leaving two dead and eight injured. The gunman managed to escape and possibly killed his accomplice an Arab taxi driver whose body was found nearby. The police identified shooter as 30 year old muslim Nisaat Melkham from Arara and searched his home                  \n",
       "1    A new 28foot tall statue of Jesus dubbed Jesus de Greatest is unveiled on New Years Day outside St. Aloysius Catholic Church in Abajah village Nigerias Imo state which is described as tallest Jesus statue in Africa                                                                                                       \n",
       "2    About one thousand houses in Manilas Tondo district in Philippines are set ablaze following New Years Eve firecracker festivities that left person dead and 380 others injured                                                                                                                                               \n",
       "3    The EUUkraine Free Trade deal officially comes into force coinciding with a Russian food embargo on Ukraine                                                                                                                                                                                                                  \n",
       "4    The twochild policy takes effect in China allowing couples in country to have at most two children replacing controversial onechild policy. The change in law was announced by ruling Communist Party on October 29 and passed Standing Committee of National Peoples Congress on December 27 five days prior to its effect  \n",
       "..                                                                                                                                                                                                                                                                                                                           ...  \n",
       "995  Passengers are evacuated from south domestic terminal at Hartsfield Jackson Atlanta International Airport in US state of Georgia after a suspicious package is found. The package is declared safe by a bomb squad                                                                                                           \n",
       "996  Nigerien President Mahamadou Issoufou wins reelection in a second round of voting receiving 92 percent of vote in an election that was boycotted by opposition                                                                                                                                                               \n",
       "997  Voters in Senegal approve a series of constitutional reforms which include a reduction of presidential terms from seven to five years with 63 percent of vote                                                                                                                                                                \n",
       "998  Front runners Hillary Clinton and Donald Trump  won Democratic and Republican primary in Arizona. Bernie Sanders and Ted Cruz each won their partys votes in Idaho and Utah. The early results for Tuesdays GOP caucus in American Samoa nine uncommitted                                                                    \n",
       "999  Starboard Value LP an activist hedge fund begins a proxy contest to oust entire board of directors of internet pioneer Yahoo                                                                                                                                                                                                 \n",
       "\n",
       "[1000 rows x 2 columns]"
      ]
     },
     "execution_count": 3,
     "metadata": {},
     "output_type": "execute_result"
    }
   ],
   "source": [
    "df2"
   ]
  },
  {
   "cell_type": "code",
   "execution_count": 4,
   "metadata": {},
   "outputs": [],
   "source": [
    "rel_df=df1[['event_id','Final_Goal_Test','argtext']]"
   ]
  },
  {
   "cell_type": "code",
   "execution_count": 6,
   "metadata": {},
   "outputs": [],
   "source": [
    "\n",
    "rel_df= rel_df.dropna(subset=['Final_Goal_Test'])\n",
    "rel_df=rel_df.reset_index()\n",
    "rel_df=rel_df[['event_id','Final_Goal_Test','argtext']]\n",
    "df2.loc[:,'anno_event_summary']=df2.loc[:,'event_summary']"
   ]
  },
  {
   "cell_type": "code",
   "execution_count": 108,
   "metadata": {
    "scrolled": true
   },
   "outputs": [],
   "source": [
    "# n=1\n",
    "for j in range(0,1000):\n",
    "    n=1\n",
    "#     print(j)\n",
    "    text1=df2.loc[j,'event_summary']\n",
    "    eid=df2.loc[j,'event_id']\n",
    "    \n",
    "    \n",
    "    for i in range(0,2030):\n",
    "        text2=str(df1.loc[i,'argtext'])\n",
    "        eidd=df1.loc[i,'event_id']\n",
    "        if text2 in text1 and eidd==eid:\n",
    "            text1=text1.replace(text2,\"<e\"+str(n)+\">\"+text2+\"<\\e\"+str(n)+\">\")\n",
    "            n=n+1\n",
    "#             print(text1)\n",
    "            df2.loc[j,'event_summary']=text1\n",
    "        "
   ]
  },
  {
   "cell_type": "code",
   "execution_count": 109,
   "metadata": {},
   "outputs": [],
   "source": [
    "df2=df2[0:999]"
   ]
  },
  {
   "cell_type": "code",
   "execution_count": 110,
   "metadata": {},
   "outputs": [],
   "source": [
    "# merged_df = join(df2, rel_df, on = [[:event_id]], kind = :outer)"
   ]
  },
  {
   "cell_type": "code",
   "execution_count": 111,
   "metadata": {},
   "outputs": [],
   "source": [
    "# merged = df2.merge(rel_df, left_index=True, right_index=True, how='outer')\n",
    "merged=pd.merge(df2, rel_df, on='event_id', how='inner')"
   ]
  },
  {
   "cell_type": "code",
   "execution_count": 112,
   "metadata": {},
   "outputs": [],
   "source": [
    "merged = merged.rename(columns={'Final_Goal_Test': 'Relation'})"
   ]
  },
  {
   "cell_type": "code",
   "execution_count": 113,
   "metadata": {},
   "outputs": [
    {
     "data": {
      "text/plain": [
       "<matplotlib.axes._subplots.AxesSubplot at 0x21a86df4240>"
      ]
     },
     "execution_count": 113,
     "metadata": {},
     "output_type": "execute_result"
    },
    {
     "data": {
      "image/png": "[encoded data removed]",
      "text/plain": [
       "<Figure size 432x288 with 1 Axes>"
      ]
     },
     "metadata": {
      "needs_background": "light"
     },
     "output_type": "display_data"
    }
   ],
   "source": [
    "merged['Relation'][1:100].value_counts().plot(kind=\"bar\")"
   ]
  },
  {
   "cell_type": "code",
   "execution_count": 114,
   "metadata": {},
   "outputs": [],
   "source": [
    "# merged"
   ]
  },
  {
   "cell_type": "code",
   "execution_count": 115,
   "metadata": {},
   "outputs": [],
   "source": [
    "# df5=merged['Relation'].value_counts()\n",
    "# df5[df5==2]"
   ]
  },
  {
   "cell_type": "code",
   "execution_count": 116,
   "metadata": {},
   "outputs": [],
   "source": [
    "from nltk.corpus import wordnet as wn\n",
    "import numpy\n",
    "from keras.models import Sequential\n",
    "from keras.layers import Dense\n",
    "from keras.layers import Dropout\n",
    "from keras.layers import LSTM\n",
    "from keras.callbacks import ModelCheckpoint\n",
    "from keras.utils import np_utils\n",
    "from keras.preprocessing.text import Tokenizer\n",
    "from keras.preprocessing.sequence import pad_sequences\n",
    "from keras.layers import Dense, Dropout, Activation\n",
    "from keras.optimizers import SGD\n",
    "import keras\n",
    "import keras.utils\n",
    "from keras import utils as np_utils\n",
    "from keras.utils import to_categorical\n",
    "from sklearn.model_selection import train_test_split\n",
    "from keras.layers import Embedding\n",
    "from keras.layers import Dense, Dropout, Embedding, LSTM, Bidirectional\n",
    "from sklearn.preprocessing import LabelEncoder\n",
    "import numpy as np"
   ]
  },
  {
   "cell_type": "markdown",
   "metadata": {},
   "source": [
    "## 1. Encoding using sequences"
   ]
  },
  {
   "cell_type": "code",
   "execution_count": 117,
   "metadata": {},
   "outputs": [
    {
     "name": "stdout",
     "output_type": "stream",
     "text": [
      "None\n",
      "Found 6490 unique tokens.\n"
     ]
    }
   ],
   "source": [
    "n_most_common_words = 20000 # vocabulary size 20000\n",
    "max_len = 100\n",
    "tokenizer = Tokenizer(num_words=n_most_common_words, lower=True)\n",
    "print(tokenizer.fit_on_texts(merged['event_summary'].values))\n",
    "sequences = tokenizer.texts_to_sequences(merged['event_summary'].values)\n",
    "word_index = tokenizer.word_index\n",
    "# print(word_index)\n",
    "print('Found %s unique tokens.' % len(word_index))\n",
    "X = pad_sequences(sequences, maxlen=max_len)"
   ]
  },
  {
   "cell_type": "code",
   "execution_count": 118,
   "metadata": {},
   "outputs": [
    {
     "name": "stdout",
     "output_type": "stream",
     "text": [
      "A new 28foot tall statue of Jesus dubbed <e1>Jesus de Greatest<\\e1> is unveiled on <e2>New Years<\\e2> Day outside St. Aloysius Catholic Church in Abajah village Nigerias Imo state which is described as tallest Jesus statue in Africa\n",
      "[5, 43, 2983, 2984, 1837, 3, 1038, 1838, 1, 1038, 580, 1839, 1, 11, 2985, 12, 2, 43, 74, 2, 227, 228, 844, 2986, 1039, 845, 4, 2987, 365, 2988, 2989, 27, 54, 11, 1840, 25, 2990, 1038, 1837, 4, 846]\n"
     ]
    }
   ],
   "source": [
    "print(merged['event_summary'][1])\n",
    "print(sequences[1])"
   ]
  },
  {
   "cell_type": "code",
   "execution_count": 119,
   "metadata": {},
   "outputs": [],
   "source": [
    "# tokenizer = Tokenizer(num_words=n_most_common_words, lower=False)\n",
    "# print(tokenizer.fit_on_texts(df3['Labels'].values))\n",
    "# sequences1 = tokenizer.texts_to_sequences(df3['Labels'].values)\n",
    "# word_index = tokenizer.word_index\n",
    "# print('Found %s unique tokens.' % len(word_index))\n",
    "# labels = pad_sequences(sequences1, maxlen=max_len)"
   ]
  },
  {
   "cell_type": "code",
   "execution_count": 120,
   "metadata": {},
   "outputs": [],
   "source": [
    "# tokenizer = Tokenizer(num_words=n_most_common_words, lower=True)\n",
    "# print(tokenizer.fit_on_texts(merged['Relation'].values))\n",
    "# sequences2 = tokenizer.texts_to_sequences(merged['Relation'].values)\n",
    "# word_index2 = tokenizer.word_index\n",
    "# print('Found %s unique tokens.' % len(word_index2))\n",
    "# labels1 = pad_sequences(sequences2, maxlen=max_len)"
   ]
  },
  {
   "cell_type": "code",
   "execution_count": 121,
   "metadata": {},
   "outputs": [],
   "source": [
    "code = np.array(df3['Labels'])\n",
    "label_encoder = LabelEncoder()\n",
    "vec = label_encoder.fit_transform(code)\n",
    "labels = to_categorical(vec) # from keras.utils.np_utils"
   ]
  },
  {
   "cell_type": "code",
   "execution_count": 122,
   "metadata": {},
   "outputs": [
    {
     "ename": "ValueError",
     "evalue": "Found input variables with inconsistent numbers of samples: [1037, 4882]",
     "output_type": "error",
     "traceback": [
      "\u001b[1;31m---------------------------------------------------------------------------\u001b[0m",
      "\u001b[1;31mValueError\u001b[0m                                Traceback (most recent call last)",
      "\u001b[1;32m<ipython-input-122-23ad758d9e5a>\u001b[0m in \u001b[0;36m<module>\u001b[1;34m\u001b[0m\n\u001b[1;32m----> 1\u001b[1;33m \u001b[0mX_train\u001b[0m\u001b[1;33m,\u001b[0m \u001b[0mX_test\u001b[0m\u001b[1;33m,\u001b[0m \u001b[0my_train\u001b[0m\u001b[1;33m,\u001b[0m \u001b[0my_test\u001b[0m \u001b[1;33m=\u001b[0m \u001b[0mtrain_test_split\u001b[0m\u001b[1;33m(\u001b[0m\u001b[0mX\u001b[0m \u001b[1;33m,\u001b[0m \u001b[0mlabels\u001b[0m\u001b[1;33m,\u001b[0m \u001b[0mtest_size\u001b[0m\u001b[1;33m=\u001b[0m\u001b[1;36m0.20\u001b[0m\u001b[1;33m,\u001b[0m \u001b[0mrandom_state\u001b[0m\u001b[1;33m=\u001b[0m\u001b[1;36m2\u001b[0m\u001b[1;33m)\u001b[0m\u001b[1;33m\u001b[0m\u001b[1;33m\u001b[0m\u001b[0m\n\u001b[0m",
      "\u001b[1;32mc:\\users\\gulja\\python 3.7.3\\lib\\site-packages\\sklearn\\model_selection\\_split.py\u001b[0m in \u001b[0;36mtrain_test_split\u001b[1;34m(*arrays, **options)\u001b[0m\n\u001b[0;32m   2182\u001b[0m         \u001b[0mtest_size\u001b[0m \u001b[1;33m=\u001b[0m \u001b[1;36m0.25\u001b[0m\u001b[1;33m\u001b[0m\u001b[1;33m\u001b[0m\u001b[0m\n\u001b[0;32m   2183\u001b[0m \u001b[1;33m\u001b[0m\u001b[0m\n\u001b[1;32m-> 2184\u001b[1;33m     \u001b[0marrays\u001b[0m \u001b[1;33m=\u001b[0m \u001b[0mindexable\u001b[0m\u001b[1;33m(\u001b[0m\u001b[1;33m*\u001b[0m\u001b[0marrays\u001b[0m\u001b[1;33m)\u001b[0m\u001b[1;33m\u001b[0m\u001b[1;33m\u001b[0m\u001b[0m\n\u001b[0m\u001b[0;32m   2185\u001b[0m \u001b[1;33m\u001b[0m\u001b[0m\n\u001b[0;32m   2186\u001b[0m     \u001b[1;32mif\u001b[0m \u001b[0mshuffle\u001b[0m \u001b[1;32mis\u001b[0m \u001b[1;32mFalse\u001b[0m\u001b[1;33m:\u001b[0m\u001b[1;33m\u001b[0m\u001b[1;33m\u001b[0m\u001b[0m\n",
      "\u001b[1;32mc:\\users\\gulja\\python 3.7.3\\lib\\site-packages\\sklearn\\utils\\validation.py\u001b[0m in \u001b[0;36mindexable\u001b[1;34m(*iterables)\u001b[0m\n\u001b[0;32m    258\u001b[0m         \u001b[1;32melse\u001b[0m\u001b[1;33m:\u001b[0m\u001b[1;33m\u001b[0m\u001b[1;33m\u001b[0m\u001b[0m\n\u001b[0;32m    259\u001b[0m             \u001b[0mresult\u001b[0m\u001b[1;33m.\u001b[0m\u001b[0mappend\u001b[0m\u001b[1;33m(\u001b[0m\u001b[0mnp\u001b[0m\u001b[1;33m.\u001b[0m\u001b[0marray\u001b[0m\u001b[1;33m(\u001b[0m\u001b[0mX\u001b[0m\u001b[1;33m)\u001b[0m\u001b[1;33m)\u001b[0m\u001b[1;33m\u001b[0m\u001b[1;33m\u001b[0m\u001b[0m\n\u001b[1;32m--> 260\u001b[1;33m     \u001b[0mcheck_consistent_length\u001b[0m\u001b[1;33m(\u001b[0m\u001b[1;33m*\u001b[0m\u001b[0mresult\u001b[0m\u001b[1;33m)\u001b[0m\u001b[1;33m\u001b[0m\u001b[1;33m\u001b[0m\u001b[0m\n\u001b[0m\u001b[0;32m    261\u001b[0m     \u001b[1;32mreturn\u001b[0m \u001b[0mresult\u001b[0m\u001b[1;33m\u001b[0m\u001b[1;33m\u001b[0m\u001b[0m\n\u001b[0;32m    262\u001b[0m \u001b[1;33m\u001b[0m\u001b[0m\n",
      "\u001b[1;32mc:\\users\\gulja\\python 3.7.3\\lib\\site-packages\\sklearn\\utils\\validation.py\u001b[0m in \u001b[0;36mcheck_consistent_length\u001b[1;34m(*arrays)\u001b[0m\n\u001b[0;32m    233\u001b[0m     \u001b[1;32mif\u001b[0m \u001b[0mlen\u001b[0m\u001b[1;33m(\u001b[0m\u001b[0muniques\u001b[0m\u001b[1;33m)\u001b[0m \u001b[1;33m>\u001b[0m \u001b[1;36m1\u001b[0m\u001b[1;33m:\u001b[0m\u001b[1;33m\u001b[0m\u001b[1;33m\u001b[0m\u001b[0m\n\u001b[0;32m    234\u001b[0m         raise ValueError(\"Found input variables with inconsistent numbers of\"\n\u001b[1;32m--> 235\u001b[1;33m                          \" samples: %r\" % [int(l) for l in lengths])\n\u001b[0m\u001b[0;32m    236\u001b[0m \u001b[1;33m\u001b[0m\u001b[0m\n\u001b[0;32m    237\u001b[0m \u001b[1;33m\u001b[0m\u001b[0m\n",
      "\u001b[1;31mValueError\u001b[0m: Found input variables with inconsistent numbers of samples: [1037, 4882]"
     ]
    }
   ],
   "source": [
    "X_train, X_test, y_train, y_test = train_test_split(X , labels, test_size=0.20, random_state=2)\n"
   ]
  },
  {
   "cell_type": "code",
   "execution_count": 123,
   "metadata": {},
   "outputs": [
    {
     "data": {
      "text/plain": [
       "array([[1.],\n",
       "       [1.],\n",
       "       [1.],\n",
       "       ...,\n",
       "       [1.],\n",
       "       [1.],\n",
       "       [1.]], dtype=float32)"
      ]
     },
     "execution_count": 123,
     "metadata": {},
     "output_type": "execute_result"
    }
   ],
   "source": [
    "labels"
   ]
  },
  {
   "cell_type": "code",
   "execution_count": 53,
   "metadata": {},
   "outputs": [
    {
     "data": {
      "text/plain": [
       "array([0, 0, 0, 0, 0, 0, 0, 0, 0, 0, 0, 0, 0, 0, 0, 0, 0, 0, 0, 0, 0, 0,\n",
       "       0, 0, 0, 0, 0, 0, 0, 0, 0, 0, 0, 0, 0, 0, 0, 0, 0, 0, 0, 0, 0, 0,\n",
       "       0, 0, 0, 0, 0, 0, 0, 0, 0, 0, 0, 0, 0, 0, 0, 0, 0, 0, 0, 0, 0, 0,\n",
       "       0, 0, 0, 0, 0, 0, 0, 0, 0, 0, 0, 0, 0, 0, 0, 0, 0, 0, 0, 0, 0, 0,\n",
       "       0, 0, 0, 0, 0, 0, 0, 0, 0, 0, 0, 1])"
      ]
     },
     "execution_count": 53,
     "metadata": {},
     "output_type": "execute_result"
    }
   ],
   "source": [
    "labels[0]"
   ]
  },
  {
   "cell_type": "code",
   "execution_count": 54,
   "metadata": {},
   "outputs": [
    {
     "name": "stdout",
     "output_type": "stream",
     "text": [
      "_________________________________________________________________\n",
      "Layer (type)                 Output Shape              Param #   \n",
      "=================================================================\n",
      "embedding_3 (Embedding)      (None, 100, 300)          6000000   \n",
      "_________________________________________________________________\n",
      "bidirectional_3 (Bidirection (None, 200)               320800    \n",
      "_________________________________________________________________\n",
      "dense_3 (Dense)              (None, 100)               20100     \n",
      "=================================================================\n",
      "Total params: 6,340,900\n",
      "Trainable params: 6,340,900\n",
      "Non-trainable params: 0\n",
      "_________________________________________________________________\n",
      "None\n"
     ]
    }
   ],
   "source": [
    "embedding_size = 300\n",
    "model = Sequential()\n",
    "model.add(Embedding(n_most_common_words, embedding_size, input_length=X.shape[1]))\n",
    "model.add(Bidirectional(LSTM(100, dropout=0.2, recurrent_dropout=0.2)))\n",
    "# model.add(Bidirectional(LSTM(100, dropout=0.2, recurrent_dropout=0.2)))\n",
    "# model.add(Dropout(0.2))\n",
    "model.add(Dense(labels.shape[1], activation='softmax'))\n",
    "model.compile(optimizer='adam', loss='binary_crossentropy', metrics=['acc'])\n",
    "# model.compile(\n",
    "#   optimizer='sgd',\n",
    "#   loss='sparse_categorical_crossentropy',\n",
    "#   metrics=['accuracy'])\n",
    "print(model.summary())\n"
   ]
  },
  {
   "cell_type": "code",
   "execution_count": null,
   "metadata": {},
   "outputs": [],
   "source": []
  },
  {
   "cell_type": "code",
   "execution_count": 55,
   "metadata": {},
   "outputs": [
    {
     "data": {
      "text/plain": [
       "829"
      ]
     },
     "execution_count": 55,
     "metadata": {},
     "output_type": "execute_result"
    }
   ],
   "source": [
    "len(X_train)"
   ]
  },
  {
   "cell_type": "code",
   "execution_count": 56,
   "metadata": {},
   "outputs": [
    {
     "name": "stdout",
     "output_type": "stream",
     "text": [
      "Train on 746 samples, validate on 83 samples\n",
      "Epoch 1/3\n",
      "746/746 [==============================] - 15s 20ms/step - loss: 10.8848 - acc: 0.9835 - val_loss: 9.9295 - val_acc: 0.9833\n",
      "Epoch 2/3\n",
      "746/746 [==============================] - 6s 8ms/step - loss: 7.9573 - acc: 0.9835 - val_loss: 4.4604 - val_acc: 0.9861\n",
      "Epoch 3/3\n",
      "746/746 [==============================] - 8s 10ms/step - loss: 2.6033 - acc: 0.9855 - val_loss: 3.1611 - val_acc: 0.9861\n"
     ]
    },
    {
     "data": {
      "text/plain": [
       "<keras.callbacks.History at 0x21a870a5f60>"
      ]
     },
     "execution_count": 56,
     "metadata": {},
     "output_type": "execute_result"
    }
   ],
   "source": [
    "model.fit(X_train, y_train, epochs=3, batch_size=128, validation_split=0.1)\n",
    "# model.fit(X_train, y_train, epochs=3, validation_data(X_test,y_test))\n",
    "\n"
   ]
  },
  {
   "cell_type": "code",
   "execution_count": 57,
   "metadata": {},
   "outputs": [],
   "source": [
    "from sklearn.metrics import confusion_matrix\n",
    "from sklearn.metrics import classification_report"
   ]
  },
  {
   "cell_type": "code",
   "execution_count": 58,
   "metadata": {},
   "outputs": [
    {
     "data": {
      "text/plain": [
       "99"
      ]
     },
     "execution_count": 58,
     "metadata": {},
     "output_type": "execute_result"
    }
   ],
   "source": [
    "import numpy as np\n",
    "rounded_labels=np.argmax(y_test, axis=1)\n",
    "rounded_labels[1]"
   ]
  },
  {
   "cell_type": "code",
   "execution_count": 59,
   "metadata": {},
   "outputs": [
    {
     "data": {
      "text/plain": [
       "99"
      ]
     },
     "execution_count": 59,
     "metadata": {},
     "output_type": "execute_result"
    }
   ],
   "source": [
    "rounded_predictions = model.predict_classes(X_test, batch_size=128)\n",
    "rounded_predictions[1]"
   ]
  },
  {
   "cell_type": "code",
   "execution_count": 60,
   "metadata": {},
   "outputs": [],
   "source": [
    "cm = confusion_matrix(rounded_labels, rounded_predictions)"
   ]
  },
  {
   "cell_type": "code",
   "execution_count": 61,
   "metadata": {},
   "outputs": [
    {
     "data": {
      "text/plain": [
       "array([  0,   0, 147], dtype=int64)"
      ]
     },
     "execution_count": 61,
     "metadata": {},
     "output_type": "execute_result"
    }
   ],
   "source": [
    "cm[2]"
   ]
  },
  {
   "cell_type": "code",
   "execution_count": 62,
   "metadata": {
    "scrolled": false
   },
   "outputs": [
    {
     "name": "stdout",
     "output_type": "stream",
     "text": [
      "              precision    recall  f1-score   support\n",
      "\n",
      "          97      0.000     0.000     0.000         4\n",
      "          98      0.000     0.000     0.000        57\n",
      "          99      0.707     1.000     0.828       147\n",
      "\n",
      "   micro avg      0.707     0.707     0.707       208\n",
      "   macro avg      0.236     0.333     0.276       208\n",
      "weighted avg      0.499     0.707     0.585       208\n",
      "\n"
     ]
    },
    {
     "name": "stderr",
     "output_type": "stream",
     "text": [
      "c:\\users\\gulja\\python 3.7.3\\lib\\site-packages\\sklearn\\metrics\\classification.py:1143: UndefinedMetricWarning: Precision and F-score are ill-defined and being set to 0.0 in labels with no predicted samples.\n",
      "  'precision', 'predicted', average, warn_for)\n"
     ]
    }
   ],
   "source": [
    "# prediction_probas = model.predict(X_test) \n",
    "# predictions = [np.argmax(pred) for pred in prediction_probas]\n",
    "\n",
    "# print(confusion_matrix(y_test, predictions)) #from sklearn.metrics\n",
    "print(classification_report(rounded_labels, rounded_predictions, digits=3))"
   ]
  },
  {
   "cell_type": "code",
   "execution_count": null,
   "metadata": {},
   "outputs": [],
   "source": []
  },
  {
   "cell_type": "code",
   "execution_count": null,
   "metadata": {},
   "outputs": [],
   "source": []
  }
 ],
 "metadata": {
  "kernelspec": {
   "display_name": "Python 3",
   "language": "python",
   "name": "python3"
  },
  "language_info": {
   "codemirror_mode": {
    "name": "ipython",
    "version": 3
   },
   "file_extension": ".py",
   "mimetype": "text/x-python",
   "name": "python",
   "nbconvert_exporter": "python",
   "pygments_lexer": "ipython3",
   "version": "3.7.3"
  }
 },
 "nbformat": 4,
 "nbformat_minor": 2
}
